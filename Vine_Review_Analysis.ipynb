{
  "nbformat": 4,
  "nbformat_minor": 0,
  "metadata": {
    "colab": {
      "name": "Vine_Review_Analysis.ipynb",
      "provenance": [],
      "collapsed_sections": []
    },
    "kernelspec": {
      "name": "python3",
      "display_name": "Python 3"
    },
    "language_info": {
      "name": "python"
    }
  },
  "cells": [
    {
      "cell_type": "code",
      "metadata": {
        "id": "yEIDAy6z0iBD"
      },
      "source": [
        ""
      ],
      "execution_count": null,
      "outputs": []
    },
    {
      "cell_type": "code",
      "metadata": {
        "id": "V58rxea0HqSa",
        "colab": {
          "base_uri": "https://localhost:8080/"
        },
        "outputId": "e32a7575-1374-46e9-b1e6-d0b3b1c99709"
      },
      "source": [
        "import os\n",
        "# Find the latest version of spark 3.0 from http://www.apache.org/dist/spark/ and enter as the spark version\n",
        "# For example:\n",
        "# spark_version = 'spark-3.0.3'\n",
        "spark_version = 'spark-3.0.3'\n",
        "os.environ['SPARK_VERSION']=spark_version\n",
        "\n",
        "# Install Spark and Java\n",
        "!apt-get update\n",
        "!apt-get install openjdk-11-jdk-headless -qq > /dev/null\n",
        "!wget -q http://www.apache.org/dist/spark/$SPARK_VERSION/$SPARK_VERSION-bin-hadoop2.7.tgz\n",
        "!tar xf $SPARK_VERSION-bin-hadoop2.7.tgz\n",
        "!pip install -q findspark\n",
        "\n",
        "# Set Environment Variables\n",
        "import os\n",
        "os.environ[\"JAVA_HOME\"] = \"/usr/lib/jvm/java-11-openjdk-amd64\"\n",
        "os.environ[\"SPARK_HOME\"] = f\"/content/{spark_version}-bin-hadoop2.7\"\n",
        "\n",
        "# Start a SparkSession\n",
        "import findspark\n",
        "findspark.init()"
      ],
      "execution_count": 2,
      "outputs": [
        {
          "output_type": "stream",
          "name": "stdout",
          "text": [
            "\r0% [Working]\r            \rGet:1 https://cloud.r-project.org/bin/linux/ubuntu bionic-cran40/ InRelease [3,626 B]\n",
            "Get:2 http://security.ubuntu.com/ubuntu bionic-security InRelease [88.7 kB]\n",
            "Ign:3 https://developer.download.nvidia.com/compute/cuda/repos/ubuntu1804/x86_64  InRelease\n",
            "Get:4 http://ppa.launchpad.net/c2d4u.team/c2d4u4.0+/ubuntu bionic InRelease [15.9 kB]\n",
            "Hit:5 http://archive.ubuntu.com/ubuntu bionic InRelease\n",
            "Ign:6 https://developer.download.nvidia.com/compute/machine-learning/repos/ubuntu1804/x86_64  InRelease\n",
            "Get:7 http://archive.ubuntu.com/ubuntu bionic-updates InRelease [88.7 kB]\n",
            "Get:8 https://cloud.r-project.org/bin/linux/ubuntu bionic-cran40/ Packages [69.5 kB]\n",
            "Hit:9 http://ppa.launchpad.net/cran/libgit2/ubuntu bionic InRelease\n",
            "Hit:10 https://developer.download.nvidia.com/compute/cuda/repos/ubuntu1804/x86_64  Release\n",
            "Hit:11 https://developer.download.nvidia.com/compute/machine-learning/repos/ubuntu1804/x86_64  Release\n",
            "Get:12 http://archive.ubuntu.com/ubuntu bionic-backports InRelease [74.6 kB]\n",
            "Hit:13 http://ppa.launchpad.net/deadsnakes/ppa/ubuntu bionic InRelease\n",
            "Get:14 http://security.ubuntu.com/ubuntu bionic-security/universe amd64 Packages [1,431 kB]\n",
            "Get:15 http://security.ubuntu.com/ubuntu bionic-security/main amd64 Packages [2,367 kB]\n",
            "Hit:16 http://ppa.launchpad.net/graphics-drivers/ppa/ubuntu bionic InRelease\n",
            "Get:17 http://security.ubuntu.com/ubuntu bionic-security/restricted amd64 Packages [607 kB]\n",
            "Get:18 http://ppa.launchpad.net/c2d4u.team/c2d4u4.0+/ubuntu bionic/main Sources [1,802 kB]\n",
            "Get:21 http://ppa.launchpad.net/c2d4u.team/c2d4u4.0+/ubuntu bionic/main amd64 Packages [922 kB]\n",
            "Get:22 http://archive.ubuntu.com/ubuntu bionic-updates/main amd64 Packages [2,803 kB]\n",
            "Get:23 http://archive.ubuntu.com/ubuntu bionic-updates/universe amd64 Packages [2,210 kB]\n",
            "Get:24 http://archive.ubuntu.com/ubuntu bionic-updates/restricted amd64 Packages [640 kB]\n",
            "Fetched 13.1 MB in 3s (4,165 kB/s)\n",
            "Reading package lists... Done\n"
          ]
        }
      ]
    },
    {
      "cell_type": "code",
      "metadata": {
        "id": "RjoSsf6e1Vcu"
      },
      "source": [
        ""
      ],
      "execution_count": null,
      "outputs": []
    },
    {
      "cell_type": "code",
      "metadata": {
        "id": "MMqDAjVS0KN9"
      },
      "source": [
        "from pyspark.sql import SparkSession\n",
        "spark = SparkSession.builder.appName(\"Vine-Reviews-Challenge\").config(\"spark.driver.extraClassPath\",\"/content/postgresql-42.2.16.jar\").getOrCreate()"
      ],
      "execution_count": 5,
      "outputs": []
    },
    {
      "cell_type": "code",
      "metadata": {
        "id": "eOkFDKpk1vvK"
      },
      "source": [
        ""
      ],
      "execution_count": null,
      "outputs": []
    },
    {
      "cell_type": "code",
      "metadata": {
        "id": "CtCmBhQJY-9Z",
        "colab": {
          "base_uri": "https://localhost:8080/"
        },
        "outputId": "ea0b038d-1da0-4586-eeda-50cfb13b9a28"
      },
      "source": [
        "from pyspark import SparkFiles\n",
        "url = \"https://mychallengebucket1819.s3.us-east-2.amazonaws.com/amazon_reviews_us_Tools_v1_00.tsv\"\n",
        "spark.sparkContext.addFile(url)\n",
        "df = spark.read.option(\"encoding\", \"UTF-8\").csv(SparkFiles.get(\"amazon_reviews_us_Tools_v1_00.tsv\"), sep=\"\\t\", header=True, inferSchema=True)\n",
        "df.show()"
      ],
      "execution_count": 6,
      "outputs": [
        {
          "output_type": "stream",
          "name": "stdout",
          "text": [
            "+-----------+-----------+--------------+----------+--------------+--------------------+----------------+-----------+-------------+-----------+----+-----------------+--------------------+--------------------+-----------+\n",
            "|marketplace|customer_id|     review_id|product_id|product_parent|       product_title|product_category|star_rating|helpful_votes|total_votes|vine|verified_purchase|     review_headline|         review_body|review_date|\n",
            "+-----------+-----------+--------------+----------+--------------+--------------------+----------------+-----------+-------------+-----------+----+-----------------+--------------------+--------------------+-----------+\n",
            "|         US|   15785389|R2UM5QMHBHC90Q|B00H5U9ZD6|     115362950|WallPeg 12 sq ft ...|           Tools|          5|            0|          0|   N|                Y|Great organizer, ...|Very nice. Will o...| 2015-08-31|\n",
            "|         US|   47910848|  RF0D1LEIF6L7|B001TJGCS0|     570955425|Nite Ize Nite Daw...|           Tools|          4|            0|          0|   N|                Y|Like it, but the ...|Like it, but the ...| 2015-08-31|\n",
            "|         US|   36328996|  RM6YKIWQVNSY|B000NIK8JW|     128843593|Stanley 84-058 4 ...|           Tools|          1|            6|          6|   N|                Y|        poor quality|We were excited t...| 2015-08-31|\n",
            "|         US|   51785809|R1RL3L68ASPS36|B008ZYRGUA|     407828107|Powerextra 14.4V ...|           Tools|          4|            0|          0|   N|                Y|          Four Stars|Quick delivery. P...| 2015-08-31|\n",
            "|         US|   40757491|R1U4XFBFAG34CY|B00K5CA0GC|     490746675|Waterproof Invisi...|           Tools|          5|            0|          0|   N|                Y|          Five Stars|Quality waterproo...| 2015-08-31|\n",
            "|         US|   35544833|R3KFIK8P0I91PL|B00AIJAA94|     148352067|Crime Scene Do No...|           Tools|          5|            0|          0|   N|                Y|Excellent Decorat...|Ordered for my hu...| 2015-08-31|\n",
            "|         US|   16474909| RENOAY76PPK1O|B00JKEI6K8|     331801084|Aweek® 2 Pcs Bicy...|           Tools|          5|            0|          0|   N|                Y|          Five Stars|GREAT SELLER PROD...| 2015-08-31|\n",
            "|         US|   22601598| RINV884I0NL5V|B00AGCHVS6|     471514859|Ryobi P102 Genuin...|           Tools|          1|            0|          0|   N|                Y|Worked great for ...|My battery has di...| 2015-08-31|\n",
            "|         US|   16129808| R5KJH6CXZH2PX|B002S0O7U4|     162253576|Wiha 66995 6-Piec...|           Tools|          5|            0|          0|   N|                Y|       Great quality|Great product at ...| 2015-08-31|\n",
            "|         US|   24382335| RO69JF6QWD0W1|B0084YHXMW|      69530650|TOMTOP LED Submar...|           Tools|          5|            0|          0|   N|                Y|          Five Stars|           Excellent| 2015-08-31|\n",
            "|         US|   49796324|R3L9NQBH3FI55C|B00MLSS1SW|     916693555|Black & Decker BD...|           Tools|          4|            1|          1|   N|                Y|Really worked great!|This little sande...| 2015-08-31|\n",
            "|         US|   33289687| R4YH95YPHVU0C|B00D4WLS2A|      39333316|Crain 126 Staple ...|           Tools|          5|            0|          0|   N|                Y|         LOVE IT!!!!|This is the most ...| 2015-08-31|\n",
            "|         US|   10916386|R10M1WWDDQBGG2|B00JGCDV5Y|     550596607|Diamond Semi Roun...|           Tools|          2|            0|          0|   N|                Y|I needed to cut s...|I needed to cut s...| 2015-08-31|\n",
            "|         US|   34071500| RV3KWQBTNIO62|B00N0PS3YM|     735538025|It Mall 9 LED 375...|           Tools|          5|            1|          1|   N|                Y|   Works pretty well|Lights up small d...| 2015-08-31|\n",
            "|         US|   50594486|R1M7YUNLZI0G9F|B0000DD4KV|     506501960|IRWIN Tools Metri...|           Tools|          5|            1|          1|   N|                Y|          Five Stars|Great product for...| 2015-08-31|\n",
            "|         US|   21945887|R2MTL2D4E4HEF4|B0009H5FB8|     268586246|743022-A Backing ...|           Tools|          5|            0|          0|   N|                Y|          Five Stars|Many thanks for t...| 2015-08-31|\n",
            "|         US|   47749608| RXAHWIC1584UQ|B00NKSMPZW|     824618679|ClearArmor 141001...|           Tools|          5|           20|         23|   N|                Y|          Five Stars|geart product :) ...| 2015-08-31|\n",
            "|         US|   48880662| RMOIQFERVQDWS|B00RBAB92K|     156791442|KKmoon 9cm Mini A...|           Tools|          5|            0|          0|   N|                Y|          Five Stars|           very good| 2015-08-31|\n",
            "|         US|    4660265| R710G45MKODY9|B00QGBNZVI|     962324810|Refun E6 High Pow...|           Tools|          2|            1|          1|   N|                Y|           Two Stars|Scratches on lenses.| 2015-08-31|\n",
            "|         US|   18397238|R23ZIUGUM7TBMY|B00XXU3CDG|     543062309|Dr.meter S20 Mois...|           Tools|          1|            0|          1|   N|                Y|Don't waste your ...|It's a piece of $...| 2015-08-31|\n",
            "+-----------+-----------+--------------+----------+--------------+--------------------+----------------+-----------+-------------+-----------+----+-----------------+--------------------+--------------------+-----------+\n",
            "only showing top 20 rows\n",
            "\n"
          ]
        }
      ]
    },
    {
      "cell_type": "code",
      "metadata": {
        "id": "U_IyVf4c2Bzb"
      },
      "source": [
        ""
      ],
      "execution_count": null,
      "outputs": []
    },
    {
      "cell_type": "code",
      "metadata": {
        "id": "lzMmkdKmY--D",
        "colab": {
          "base_uri": "https://localhost:8080/"
        },
        "outputId": "3d6dbfc4-2596-4741-f34e-f41f1db971d4"
      },
      "source": [
        "# ReCreate the vine_table. DataFrame\n",
        "vine_df = df.select(['review_id','star_rating','helpful_votes','total_votes','vine','verified_purchase'])\n",
        "vine_df.show()"
      ],
      "execution_count": 7,
      "outputs": [
        {
          "output_type": "stream",
          "name": "stdout",
          "text": [
            "+--------------+-----------+-------------+-----------+----+-----------------+\n",
            "|     review_id|star_rating|helpful_votes|total_votes|vine|verified_purchase|\n",
            "+--------------+-----------+-------------+-----------+----+-----------------+\n",
            "|R2UM5QMHBHC90Q|          5|            0|          0|   N|                Y|\n",
            "|  RF0D1LEIF6L7|          4|            0|          0|   N|                Y|\n",
            "|  RM6YKIWQVNSY|          1|            6|          6|   N|                Y|\n",
            "|R1RL3L68ASPS36|          4|            0|          0|   N|                Y|\n",
            "|R1U4XFBFAG34CY|          5|            0|          0|   N|                Y|\n",
            "|R3KFIK8P0I91PL|          5|            0|          0|   N|                Y|\n",
            "| RENOAY76PPK1O|          5|            0|          0|   N|                Y|\n",
            "| RINV884I0NL5V|          1|            0|          0|   N|                Y|\n",
            "| R5KJH6CXZH2PX|          5|            0|          0|   N|                Y|\n",
            "| RO69JF6QWD0W1|          5|            0|          0|   N|                Y|\n",
            "|R3L9NQBH3FI55C|          4|            1|          1|   N|                Y|\n",
            "| R4YH95YPHVU0C|          5|            0|          0|   N|                Y|\n",
            "|R10M1WWDDQBGG2|          2|            0|          0|   N|                Y|\n",
            "| RV3KWQBTNIO62|          5|            1|          1|   N|                Y|\n",
            "|R1M7YUNLZI0G9F|          5|            1|          1|   N|                Y|\n",
            "|R2MTL2D4E4HEF4|          5|            0|          0|   N|                Y|\n",
            "| RXAHWIC1584UQ|          5|           20|         23|   N|                Y|\n",
            "| RMOIQFERVQDWS|          5|            0|          0|   N|                Y|\n",
            "| R710G45MKODY9|          2|            1|          1|   N|                Y|\n",
            "|R23ZIUGUM7TBMY|          1|            0|          1|   N|                Y|\n",
            "+--------------+-----------+-------------+-----------+----+-----------------+\n",
            "only showing top 20 rows\n",
            "\n"
          ]
        }
      ]
    },
    {
      "cell_type": "code",
      "metadata": {
        "colab": {
          "base_uri": "https://localhost:8080/"
        },
        "id": "KxfhBUI42Wic",
        "outputId": "8e4b3f80-67df-4706-9574-7f69836ae137"
      },
      "source": [
        "#2.1 Filter the data and create a new DataFrame where the total_votes count is equal to or greater than 20\n",
        "filtered_df = vine_df.filter(\"total_votes>=20\")\n",
        "filtered_df.show()"
      ],
      "execution_count": 8,
      "outputs": [
        {
          "output_type": "stream",
          "name": "stdout",
          "text": [
            "+--------------+-----------+-------------+-----------+----+-----------------+\n",
            "|     review_id|star_rating|helpful_votes|total_votes|vine|verified_purchase|\n",
            "+--------------+-----------+-------------+-----------+----+-----------------+\n",
            "| RXAHWIC1584UQ|          5|           20|         23|   N|                Y|\n",
            "| RSBELAIC899DO|          5|           46|         51|   N|                Y|\n",
            "|R2HCC4CJ59D225|          4|           43|         43|   N|                Y|\n",
            "|R39BVCCVPRV6F5|          5|           10|         22|   N|                Y|\n",
            "| RL9VF9WXHEHKR|          5|           35|         36|   N|                Y|\n",
            "|R1ZINLWUOLTZ46|          1|           39|         45|   N|                N|\n",
            "|R1CQKM1K1CHOHS|          1|           21|         22|   N|                N|\n",
            "|R1ZG19X1NOLCRF|          5|            5|         21|   N|                Y|\n",
            "|R1YOX5Z4GF3ZSW|          1|            1|         22|   N|                Y|\n",
            "| R2DHAM7J1KMWN|          5|           23|         24|   N|                N|\n",
            "|R2KOLBXPW57WC3|          1|            4|         38|   N|                N|\n",
            "|R26EZ2INBETPU2|          1|          103|        128|   N|                N|\n",
            "|R265ZMDO2ISN1O|          5|           20|         21|   N|                Y|\n",
            "|R3NZ7JTOCPYE1S|          4|           32|         33|   N|                Y|\n",
            "|R3HQQ725T45NCH|          3|            9|         21|   N|                Y|\n",
            "|R15JJ5AGVSB71T|          5|           33|         33|   N|                Y|\n",
            "|R28WDBNT2XRACG|          1|           19|         24|   N|                Y|\n",
            "|R3HP224QDFQ2SN|          5|           21|         22|   N|                Y|\n",
            "| RTURVI4KNPMG1|          5|          146|        154|   N|                Y|\n",
            "| RH2BXZ337F38J|          5|           62|         66|   N|                Y|\n",
            "+--------------+-----------+-------------+-----------+----+-----------------+\n",
            "only showing top 20 rows\n",
            "\n"
          ]
        }
      ]
    },
    {
      "cell_type": "code",
      "metadata": {
        "colab": {
          "base_uri": "https://localhost:8080/"
        },
        "id": "-03HFmg43h5y",
        "outputId": "5e8cd0fb-aa8f-4182-fe35-a55a46bba410"
      },
      "source": [
        "#2.2 create a new DataFrame to retrieve all the rows where the number of helpful_votes\n",
        "# divided by total_votes is equal to or greater than 50%\n",
        "new_filtered_df = filtered_df.filter(\"helpful_votes / total_votes >=0.50\")\n",
        "new_filtered_df.show()"
      ],
      "execution_count": 9,
      "outputs": [
        {
          "output_type": "stream",
          "name": "stdout",
          "text": [
            "+--------------+-----------+-------------+-----------+----+-----------------+\n",
            "|     review_id|star_rating|helpful_votes|total_votes|vine|verified_purchase|\n",
            "+--------------+-----------+-------------+-----------+----+-----------------+\n",
            "| RXAHWIC1584UQ|          5|           20|         23|   N|                Y|\n",
            "| RSBELAIC899DO|          5|           46|         51|   N|                Y|\n",
            "|R2HCC4CJ59D225|          4|           43|         43|   N|                Y|\n",
            "| RL9VF9WXHEHKR|          5|           35|         36|   N|                Y|\n",
            "|R1ZINLWUOLTZ46|          1|           39|         45|   N|                N|\n",
            "|R1CQKM1K1CHOHS|          1|           21|         22|   N|                N|\n",
            "| R2DHAM7J1KMWN|          5|           23|         24|   N|                N|\n",
            "|R26EZ2INBETPU2|          1|          103|        128|   N|                N|\n",
            "|R265ZMDO2ISN1O|          5|           20|         21|   N|                Y|\n",
            "|R3NZ7JTOCPYE1S|          4|           32|         33|   N|                Y|\n",
            "|R15JJ5AGVSB71T|          5|           33|         33|   N|                Y|\n",
            "|R28WDBNT2XRACG|          1|           19|         24|   N|                Y|\n",
            "|R3HP224QDFQ2SN|          5|           21|         22|   N|                Y|\n",
            "| RTURVI4KNPMG1|          5|          146|        154|   N|                Y|\n",
            "| RH2BXZ337F38J|          5|           62|         66|   N|                Y|\n",
            "|R3G8L2NRMZZHPI|          4|           23|         23|   N|                Y|\n",
            "|R21Q3I2ZEDSMZK|          5|           80|         84|   N|                Y|\n",
            "|R16MXXKY0MRKZW|          1|           48|         52|   N|                Y|\n",
            "|R121P6RES3Z7WC|          1|          145|        162|   N|                Y|\n",
            "|R1ILUNGUCRZGF3|          5|           21|         21|   N|                Y|\n",
            "+--------------+-----------+-------------+-----------+----+-----------------+\n",
            "only showing top 20 rows\n",
            "\n"
          ]
        }
      ]
    },
    {
      "cell_type": "code",
      "metadata": {
        "colab": {
          "base_uri": "https://localhost:8080/"
        },
        "id": "j1KbQoCe_Q4z",
        "outputId": "b3b02c35-84b4-4383-9ee9-ac6dedbd9e15"
      },
      "source": [
        "#2.3 create a new DataFrame that retrieves all the rows where a review \n",
        "#was written as part of the Vine program (paid), vine == 'Y'\n",
        "new_y_vine_df = new_filtered_df.filter(new_filtered_df.vine == 'Y')\n",
        "new_y_vine_df.show()"
      ],
      "execution_count": 10,
      "outputs": [
        {
          "output_type": "stream",
          "name": "stdout",
          "text": [
            "+--------------+-----------+-------------+-----------+----+-----------------+\n",
            "|     review_id|star_rating|helpful_votes|total_votes|vine|verified_purchase|\n",
            "+--------------+-----------+-------------+-----------+----+-----------------+\n",
            "|R3QIQRG107AP19|          5|           38|         41|   Y|                N|\n",
            "|R1ZNBHGCYE8VN1|          5|          175|        181|   Y|                N|\n",
            "|R1BNZJ9IKGRBC2|          4|           63|         70|   Y|                N|\n",
            "|R2IXTN4PBRHBO2|          5|           19|         24|   Y|                N|\n",
            "|R32AOW3L09SYMQ|          5|           29|         34|   Y|                N|\n",
            "|R34Z4VTLF7PC6X|          4|           33|         36|   Y|                N|\n",
            "|R25403NE9JCRZZ|          2|           36|         40|   Y|                N|\n",
            "|R2QT2G3YRGC0PS|          5|           18|         20|   Y|                N|\n",
            "| RDUP15OURNUSA|          5|           22|         23|   Y|                N|\n",
            "|R1EI4NZTG7G14F|          5|           17|         23|   Y|                N|\n",
            "|R2G0YB0MC67NLG|          5|           29|         38|   Y|                N|\n",
            "| RGA1PHAE93JR2|          1|           16|         21|   Y|                N|\n",
            "|R1QS5MKSKOGG0U|          5|           15|         20|   Y|                N|\n",
            "|R3MVW880K2V5BK|          3|           37|         46|   Y|                N|\n",
            "|R11JKXPSMHSZY1|          4|           21|         28|   Y|                N|\n",
            "|  RSPSTXGY3OD8|          5|           29|         33|   Y|                N|\n",
            "| RQO0NNMNWRLB4|          3|           47|         54|   Y|                N|\n",
            "|R3H5BSP5KCFHBG|          4|           19|         21|   Y|                N|\n",
            "|R2AIJIWME1WDKN|          5|           16|         24|   Y|                N|\n",
            "| R585MGH89JZZ5|          5|           27|         34|   Y|                N|\n",
            "+--------------+-----------+-------------+-----------+----+-----------------+\n",
            "only showing top 20 rows\n",
            "\n"
          ]
        }
      ]
    },
    {
      "cell_type": "code",
      "metadata": {
        "colab": {
          "base_uri": "https://localhost:8080/"
        },
        "id": "lWM-XzgtAfqN",
        "outputId": "ab858beb-07ed-4cb8-9c1f-805abc341e52"
      },
      "source": [
        "#2.4 retrieve all the rows where the review was not part of the Vine program (unpaid), vine == 'N'\n",
        "new_n_vine_df = new_filtered_df.filter(new_filtered_df.vine == 'N')\n",
        "new_n_vine_df.show()"
      ],
      "execution_count": 11,
      "outputs": [
        {
          "output_type": "stream",
          "name": "stdout",
          "text": [
            "+--------------+-----------+-------------+-----------+----+-----------------+\n",
            "|     review_id|star_rating|helpful_votes|total_votes|vine|verified_purchase|\n",
            "+--------------+-----------+-------------+-----------+----+-----------------+\n",
            "| RXAHWIC1584UQ|          5|           20|         23|   N|                Y|\n",
            "| RSBELAIC899DO|          5|           46|         51|   N|                Y|\n",
            "|R2HCC4CJ59D225|          4|           43|         43|   N|                Y|\n",
            "| RL9VF9WXHEHKR|          5|           35|         36|   N|                Y|\n",
            "|R1ZINLWUOLTZ46|          1|           39|         45|   N|                N|\n",
            "|R1CQKM1K1CHOHS|          1|           21|         22|   N|                N|\n",
            "| R2DHAM7J1KMWN|          5|           23|         24|   N|                N|\n",
            "|R26EZ2INBETPU2|          1|          103|        128|   N|                N|\n",
            "|R265ZMDO2ISN1O|          5|           20|         21|   N|                Y|\n",
            "|R3NZ7JTOCPYE1S|          4|           32|         33|   N|                Y|\n",
            "|R15JJ5AGVSB71T|          5|           33|         33|   N|                Y|\n",
            "|R28WDBNT2XRACG|          1|           19|         24|   N|                Y|\n",
            "|R3HP224QDFQ2SN|          5|           21|         22|   N|                Y|\n",
            "| RTURVI4KNPMG1|          5|          146|        154|   N|                Y|\n",
            "| RH2BXZ337F38J|          5|           62|         66|   N|                Y|\n",
            "|R3G8L2NRMZZHPI|          4|           23|         23|   N|                Y|\n",
            "|R21Q3I2ZEDSMZK|          5|           80|         84|   N|                Y|\n",
            "|R16MXXKY0MRKZW|          1|           48|         52|   N|                Y|\n",
            "|R121P6RES3Z7WC|          1|          145|        162|   N|                Y|\n",
            "|R1ILUNGUCRZGF3|          5|           21|         21|   N|                Y|\n",
            "+--------------+-----------+-------------+-----------+----+-----------------+\n",
            "only showing top 20 rows\n",
            "\n"
          ]
        }
      ]
    },
    {
      "cell_type": "code",
      "metadata": {
        "colab": {
          "base_uri": "https://localhost:8080/"
        },
        "id": "xFmegynkBZZA",
        "outputId": "0f494dd8-eb30-442a-adcd-5db9d55e8313"
      },
      "source": [
        "#2.5 Determine the total number of reviews, the number of 5-star reviews,\n",
        "#and the percentage of 5-star reviews for the two types of review (paid vs unpaid)\n",
        "\n",
        "#total number of reviews\n",
        "y_vine_total = new_y_vine_df.count()\n",
        "n_vine_total = new_n_vine_df.count()\n",
        "total_reviews = y_vine_total + n_vine_total\n",
        "print(\"Total number of Vine reviews: %f\" % y_vine_total)\n",
        "print(\"Total number of non-Vine reviews: %f\" % n_vine_total)\n",
        "print(\"Total number of reviews: %f\" % total_reviews)\n",
        "\n",
        "#number of 5star reviews\n",
        "y_vine_5star = new_y_vine_df.filter(new_y_vine_df.star_rating =='5').count()\n",
        "n_vine_5star = new_n_vine_df.filter(new_n_vine_df.star_rating =='5').count()\n",
        "total_5star_reviews = y_vine_5star + n_vine_5star\n",
        "print(\"Total number of 5 star Vine reviews: %f\" % y_vine_5star)\n",
        "print(\"Total number of 5 star non-Vine reviews: %f\" % n_vine_5star)\n",
        "print(\"Total number of 5 star reviews: %f\" % total_5star_reviews)\n",
        "\n",
        "#percent of 5star for paid vs unpaid\n",
        "paid_reviews = (y_vine_5star / y_vine_total) * 100\n",
        "unpaid_reviews = (n_vine_5star / n_vine_total) * 100\n",
        "print(\"Total percent of Vine Paid reviews: %f\" % paid_reviews)\n",
        "print(\"Total percent of Vine Unpaid reviews: %f\" % unpaid_reviews)"
      ],
      "execution_count": 14,
      "outputs": [
        {
          "output_type": "stream",
          "name": "stdout",
          "text": [
            "Total number of Vine reviews: 285.000000\n",
            "Total number of non-Vine reviews: 31545.000000\n",
            "Total number of reviews: 31830.000000\n",
            "Total number of 5 star Vine reviews: 163.000000\n",
            "Total number of 5 star non-Vine reviews: 14614.000000\n",
            "Total number of 5 star reviews: 14777.000000\n",
            "Total percent of Vine Paid reviews: 57.192982\n",
            "Total percent of Vine Unpaid reviews: 46.327469\n"
          ]
        }
      ]
    }
  ]
}